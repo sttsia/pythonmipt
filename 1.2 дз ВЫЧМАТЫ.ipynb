{
 "cells": [
  {
   "cell_type": "code",
   "execution_count": 22,
   "id": "61f25e1d-39e1-4f03-9269-e9ee32183068",
   "metadata": {},
   "outputs": [],
   "source": [
    "import numpy as np\n",
    "\n",
    "def matrix_generate(rows, columns, type_=\"full\", eps=0):\n",
    "    \"\"\"\n",
    "    matrix_generate(rows, columns, type_ = \"full\", eps=0)\n",
    "\n",
    "    Создаёт случайную матрицу выбранного типа\n",
    "\n",
    "    Если матрицу нужных размеров создать нельзя должен выдать\n",
    "    строку f\"Error with type {type_} and shape ({rows},{columns})\".\n",
    "\n",
    "    Parameters\n",
    "    ----------\n",
    "    rows : int\n",
    "        Количество строк в создаваемой матрице.\n",
    "    columns : int\n",
    "        Количество столбцов в создаваемой матрице.\n",
    "    type_ : str, optional\n",
    "        Тип создаваемой матрицы: \"full\", \"upper_triangular\", \"symmetric\", \"diagonal\", \n",
    "        \"lower_triangular\", \"singular\", \"stepped\", \"perturbation\".\n",
    "    eps: float, optional\n",
    "        Дополнительное число, использующееся при генерации для некоторых типов матриц, таких как \"perturbation\".\n",
    "\n",
    "    Returns\n",
    "    -------\n",
    "    out : ndarray or str\n",
    "        Выдаёт матрицу нужного типа либо ошибку.\n",
    "\n",
    "    Notes\n",
    "    -----\n",
    "    Поддерживаемые типы матриц:\n",
    "        \"full\", \"upper_triangular\", \"symmetric\", \"diagonal\", \"lower_triangular\", \n",
    "        \"singular\", \"stepped\", \"perturbation\"\n",
    "    \"\"\"\n",
    "    \n",
    "    if type_ == \"full\":\n",
    "        #cлучайная матрица\n",
    "        return np.random.random(size=(rows, columns))\n",
    "\n",
    "    elif type_ == \"upper_triangular\":\n",
    "        #верхнетреугольная матрица\n",
    "        A = np.random.random(size=(rows, columns))\n",
    "        return np.triu(A)\n",
    "\n",
    "    elif type_ == \"lower_triangular\":\n",
    "        #нижнетреугольная матрица\n",
    "        A = np.random.random(size=(rows, columns))\n",
    "        return np.tril(A)\n",
    "\n",
    "    elif type_ == \"symmetric\":\n",
    "        #симметричная матрица\n",
    "        if rows != columns:\n",
    "            return f\"Error with type {type_} and shape ({rows},{columns})\"\n",
    "        A = np.random.random(size=(rows, columns))\n",
    "        return (A + A.T) / 2\n",
    "\n",
    "    elif type_ == \"diagonal\":\n",
    "        #диагональная матрица\n",
    "        if rows != columns:\n",
    "            return f\"Error with type {type_} and shape ({rows},{columns})\"\n",
    "        return np.diag(np.random.random(size=rows))\n",
    "\n",
    "    elif type_ == \"singular\":\n",
    "        #вырожденная матрица (последняя колонка зависима от первой)\n",
    "        if rows != columns:\n",
    "            return f\"Error with type {type_} and shape ({rows},{columns})\"\n",
    "        A = np.random.random(size=(rows, columns))\n",
    "        A[:, -1] = A[:, 0]  #делаем зависимой последнюю колонку от первой\n",
    "        return A\n",
    "\n",
    "    elif type_ == \"stepped\":\n",
    "        #матрица ступенчатого вида (нижняя треугольная с нулями выше главной диагонали)\n",
    "        if rows != columns:\n",
    "            return f\"Error with type {type_} and shape ({rows},{columns})\"\n",
    "        return np.tril(np.random.random(size=(rows, columns)))\n",
    "\n",
    "    elif type_ == \"perturbation\":\n",
    "        #генерация матрицы с возмущениями, каждый элемент в диапазоне [-eps, eps]\n",
    "        A = np.random.uniform(-eps, eps, size=(rows, columns))\n",
    "        norm = np.linalg.norm(A, ord='fro')  #оценка нормы матрицы возмущений\n",
    "        return A, norm\n",
    "\n",
    "    else:\n",
    "        return f\"Error with type {type_} and shape ({rows},{columns})\"\n"
   ]
  },
  {
   "cell_type": "code",
   "execution_count": 24,
   "id": "e80e20ce-60b5-4c02-aaac-1f984e1229b2",
   "metadata": {},
   "outputs": [
    {
     "data": {
      "text/plain": [
       "array([[0.95369158, 0.54590922, 0.16998556]])"
      ]
     },
     "execution_count": 24,
     "metadata": {},
     "output_type": "execute_result"
    }
   ],
   "source": [
    "matrix_generate(1, 3)"
   ]
  },
  {
   "cell_type": "code",
   "execution_count": 26,
   "id": "0d31f2e0-c02e-472c-ba35-edec034addd1",
   "metadata": {},
   "outputs": [
    {
     "data": {
      "text/plain": [
       "array([[0.19843654, 0.28299344, 0.46608207, 0.36869335],\n",
       "       [0.        , 0.94347268, 0.60228482, 0.94418427],\n",
       "       [0.        , 0.        , 0.19383088, 0.03181252],\n",
       "       [0.        , 0.        , 0.        , 0.39874645]])"
      ]
     },
     "execution_count": 26,
     "metadata": {},
     "output_type": "execute_result"
    }
   ],
   "source": [
    "matrix_generate(4, 4, type_ = \"upper_triangular\")"
   ]
  },
  {
   "cell_type": "code",
   "execution_count": 28,
   "id": "b62d4b6e-ff4e-4f63-923f-2137fe27f5a6",
   "metadata": {},
   "outputs": [
    {
     "data": {
      "text/plain": [
       "array([[0.32645621, 0.16405931, 0.34894916],\n",
       "       [0.        , 0.84713651, 0.04022647],\n",
       "       [0.        , 0.        , 0.03015023],\n",
       "       [0.        , 0.        , 0.        ]])"
      ]
     },
     "execution_count": 28,
     "metadata": {},
     "output_type": "execute_result"
    }
   ],
   "source": [
    "matrix_generate(4, 3, type_ = \"upper_triangular\")"
   ]
  },
  {
   "cell_type": "code",
   "execution_count": 30,
   "id": "59e751b4-0e7c-4d61-8d56-a993e24e3c29",
   "metadata": {},
   "outputs": [
    {
     "data": {
      "text/plain": [
       "array([[0.31283467, 0.48519962, 0.69192793, 0.54134359],\n",
       "       [0.48519962, 0.46553746, 0.40485372, 0.75443677],\n",
       "       [0.69192793, 0.40485372, 0.72347887, 0.28742874],\n",
       "       [0.54134359, 0.75443677, 0.28742874, 0.72202742]])"
      ]
     },
     "execution_count": 30,
     "metadata": {},
     "output_type": "execute_result"
    }
   ],
   "source": [
    "matrix_generate(4, 4, type_ = \"symmetric\")"
   ]
  },
  {
   "cell_type": "code",
   "execution_count": 32,
   "id": "e91b5637-40e2-4d3c-9999-85b1c290a2b1",
   "metadata": {},
   "outputs": [
    {
     "data": {
      "text/plain": [
       "'Error with type symmetric and shape (4,1)'"
      ]
     },
     "execution_count": 32,
     "metadata": {},
     "output_type": "execute_result"
    }
   ],
   "source": [
    "matrix_generate(4, 1, type_ = \"symmetric\")"
   ]
  },
  {
   "cell_type": "code",
   "execution_count": 34,
   "id": "057c8ef6-93b4-4df4-8892-8c47a40cee18",
   "metadata": {},
   "outputs": [],
   "source": [
    "def degeneracy_probability(rows, columns, type_ = \"full\", eps = 0, n=1000):\n",
    "    count_degenerate = 0\n",
    "    for _ in range(n):\n",
    "        if np.linalg.det(matrix_generate(rows, columns, type_, eps)) == 0:\n",
    "            count_degenerate+=1\n",
    "    return count_degenerate/n\n",
    "        "
   ]
  },
  {
   "cell_type": "code",
   "execution_count": 38,
   "id": "f8251472-73e2-4448-b2e0-c6ae45ef351e",
   "metadata": {},
   "outputs": [
    {
     "name": "stdout",
     "output_type": "stream",
     "text": [
      "0.0\n"
     ]
    }
   ],
   "source": [
    "print(degeneracy_probability(2, 2))"
   ]
  },
  {
   "cell_type": "markdown",
   "id": "0d2f053f-8f08-4225-837d-63106b192996",
   "metadata": {},
   "source": [
    "**Упражнение 2**\n",
    "\n",
    "Реализовать вычисление трех основных норм векторов (L1, L2 и максимальную) и подчиненных им матричных норм. Реализовать вычисление числа обусловленности.\n",
    "\n",
    "Примечание: для вычисления собственных значений можно использовать linalg.eigvals из модуля scipy."
   ]
  },
  {
   "cell_type": "code",
   "execution_count": 52,
   "id": "01b8119b-3fc5-47c9-8462-2717daaf8f30",
   "metadata": {},
   "outputs": [],
   "source": [
    "def vector_norm(x, p=2):\n",
    "    if p == 1:\n",
    "        return np.sum(np.abs(x))\n",
    "    elif p == 2:\n",
    "        return np.sqrt(np.sum(np.pow(x, 2)))\n",
    "    elif p == np.inf:\n",
    "        return np.max(np.abs(x))\n",
    "\n",
    "\n",
    "def matrix_norm(A, p=2):\n",
    "    if p == 1:\n",
    "        return np.max(np.sum(np.abs(A), axis=0))\n",
    "    elif p == 2:\n",
    "        return np.sqrt(np.max(np.linalg.eigvals(A.T @ A)))\n",
    "    elif p == np.inf:\n",
    "        return np.max(np.sum(np.abs(A), axis=1))\n",
    "\n",
    "\n",
    "def matrix_conditioning_number(A, p=2):\n",
    "    return matrix_norm(A, p) * matrix_norm(np.linalg.inv(A), p)"
   ]
  },
  {
   "cell_type": "code",
   "execution_count": 54,
   "id": "6a7a74e8-d55c-4e71-836c-5a5731708447",
   "metadata": {},
   "outputs": [
    {
     "name": "stdout",
     "output_type": "stream",
     "text": [
      "L1 норма вектора [1, 2, 3]: 6\n"
     ]
    },
    {
     "ename": "AttributeError",
     "evalue": "module 'numpy' has no attribute 'pow'",
     "output_type": "error",
     "traceback": [
      "\u001b[0;31m---------------------------------------------------------------------------\u001b[0m",
      "\u001b[0;31mAttributeError\u001b[0m                            Traceback (most recent call last)",
      "Cell \u001b[0;32mIn[54], line 6\u001b[0m\n\u001b[1;32m      4\u001b[0m x \u001b[38;5;241m=\u001b[39m np\u001b[38;5;241m.\u001b[39marray([\u001b[38;5;241m1\u001b[39m, \u001b[38;5;241m2\u001b[39m, \u001b[38;5;241m3\u001b[39m])\n\u001b[1;32m      5\u001b[0m \u001b[38;5;28mprint\u001b[39m(\u001b[38;5;124mf\u001b[39m\u001b[38;5;124m\"\u001b[39m\u001b[38;5;124mL1 норма вектора [1, 2, 3]: \u001b[39m\u001b[38;5;132;01m{\u001b[39;00mvector_norm(x,\u001b[38;5;250m \u001b[39mp\u001b[38;5;241m=\u001b[39m\u001b[38;5;241m1\u001b[39m)\u001b[38;5;132;01m}\u001b[39;00m\u001b[38;5;124m\"\u001b[39m)\n\u001b[0;32m----> 6\u001b[0m \u001b[38;5;28mprint\u001b[39m(\u001b[38;5;124mf\u001b[39m\u001b[38;5;124m\"\u001b[39m\u001b[38;5;124mL2 норма вектора [1, 2, 3]: \u001b[39m\u001b[38;5;132;01m{\u001b[39;00mvector_norm(x)\u001b[38;5;132;01m}\u001b[39;00m\u001b[38;5;124m\"\u001b[39m)\n\u001b[1;32m      7\u001b[0m \u001b[38;5;28mprint\u001b[39m(\u001b[38;5;124mf\u001b[39m\u001b[38;5;124m\"\u001b[39m\u001b[38;5;124mМаксимальная норма вектора [1, 2, 3]: \u001b[39m\u001b[38;5;132;01m{\u001b[39;00mvector_norm(x,\u001b[38;5;250m \u001b[39mp\u001b[38;5;241m=\u001b[39mnp\u001b[38;5;241m.\u001b[39minf)\u001b[38;5;132;01m}\u001b[39;00m\u001b[38;5;130;01m\\n\u001b[39;00m\u001b[38;5;124m\"\u001b[39m)\n\u001b[1;32m      9\u001b[0m \u001b[38;5;28mprint\u001b[39m(\u001b[38;5;124mf\u001b[39m\u001b[38;5;124m\"\u001b[39m\u001b[38;5;124mМатричная норма A (p=1): \u001b[39m\u001b[38;5;132;01m{\u001b[39;00mmatrix_norm(A,\u001b[38;5;250m \u001b[39mp\u001b[38;5;241m=\u001b[39m\u001b[38;5;241m1\u001b[39m)\u001b[38;5;132;01m}\u001b[39;00m\u001b[38;5;124m\"\u001b[39m)\n",
      "Cell \u001b[0;32mIn[52], line 5\u001b[0m, in \u001b[0;36mvector_norm\u001b[0;34m(x, p)\u001b[0m\n\u001b[1;32m      3\u001b[0m     \u001b[38;5;28;01mreturn\u001b[39;00m np\u001b[38;5;241m.\u001b[39msum(np\u001b[38;5;241m.\u001b[39mabs(x))\n\u001b[1;32m      4\u001b[0m \u001b[38;5;28;01melif\u001b[39;00m p \u001b[38;5;241m==\u001b[39m \u001b[38;5;241m2\u001b[39m:\n\u001b[0;32m----> 5\u001b[0m     \u001b[38;5;28;01mreturn\u001b[39;00m np\u001b[38;5;241m.\u001b[39msqrt(np\u001b[38;5;241m.\u001b[39msum(np\u001b[38;5;241m.\u001b[39mpow(x, \u001b[38;5;241m2\u001b[39m)))\n\u001b[1;32m      6\u001b[0m \u001b[38;5;28;01melif\u001b[39;00m p \u001b[38;5;241m==\u001b[39m np\u001b[38;5;241m.\u001b[39minf:\n\u001b[1;32m      7\u001b[0m     \u001b[38;5;28;01mreturn\u001b[39;00m np\u001b[38;5;241m.\u001b[39mmax(np\u001b[38;5;241m.\u001b[39mabs(x))\n",
      "File \u001b[0;32m/opt/anaconda3/lib/python3.11/site-packages/numpy/__init__.py:333\u001b[0m, in \u001b[0;36m__getattr__\u001b[0;34m(attr)\u001b[0m\n\u001b[1;32m    330\u001b[0m     \u001b[38;5;124m\"\u001b[39m\u001b[38;5;124mRemoved in NumPy 1.25.0\u001b[39m\u001b[38;5;124m\"\u001b[39m\n\u001b[1;32m    331\u001b[0m     \u001b[38;5;28;01mraise\u001b[39;00m \u001b[38;5;167;01mRuntimeError\u001b[39;00m(\u001b[38;5;124m\"\u001b[39m\u001b[38;5;124mTester was removed in NumPy 1.25.\u001b[39m\u001b[38;5;124m\"\u001b[39m)\n\u001b[0;32m--> 333\u001b[0m \u001b[38;5;28;01mraise\u001b[39;00m \u001b[38;5;167;01mAttributeError\u001b[39;00m(\u001b[38;5;124m\"\u001b[39m\u001b[38;5;124mmodule \u001b[39m\u001b[38;5;132;01m{!r}\u001b[39;00m\u001b[38;5;124m has no attribute \u001b[39m\u001b[38;5;124m\"\u001b[39m\n\u001b[1;32m    334\u001b[0m                      \u001b[38;5;124m\"\u001b[39m\u001b[38;5;132;01m{!r}\u001b[39;00m\u001b[38;5;124m\"\u001b[39m\u001b[38;5;241m.\u001b[39mformat(\u001b[38;5;18m__name__\u001b[39m, attr))\n",
      "\u001b[0;31mAttributeError\u001b[0m: module 'numpy' has no attribute 'pow'"
     ]
    }
   ],
   "source": [
    "A = np.array([[1, 2],\n",
    "              [3, 4]])\n",
    "\n",
    "x = np.array([1, 2, 3])\n",
    "print(f\"L1 норма вектора [1, 2, 3]: {vector_norm(x, p=1)}\")\n",
    "print(f\"L2 норма вектора [1, 2, 3]: {vector_norm(x)}\")\n",
    "print(f\"Максимальная норма вектора [1, 2, 3]: {vector_norm(x, p=np.inf)}\\n\")\n",
    "\n",
    "print(f\"Матричная норма A (p=1): {matrix_norm(A, p=1)}\")\n",
    "print(f\"Матричная норма A (p=2): {matrix_norm(A, p=2)}\")\n",
    "print(f\"Матричная норма A (p=inf): {matrix_norm(A, p=np.inf)}\\n\")\n",
    "\n",
    "print(f\"Число обусловленности A (p=1): {matrix_conditioning_number(A, p=1)}\")\n",
    "print(f\"Число обусловленности A (p=2): {matrix_conditioning_number(A)}\")\n",
    "print(f\"Число обусловленности A (p=inf): {matrix_conditioning_number(A, p=np.inf)}\")"
   ]
  },
  {
   "cell_type": "code",
   "execution_count": null,
   "id": "4801b361-29c4-4d93-95b1-719988f3480e",
   "metadata": {},
   "outputs": [],
   "source": []
  }
 ],
 "metadata": {
  "kernelspec": {
   "display_name": "Python 3 (ipykernel)",
   "language": "python",
   "name": "python3"
  },
  "language_info": {
   "codemirror_mode": {
    "name": "ipython",
    "version": 3
   },
   "file_extension": ".py",
   "mimetype": "text/x-python",
   "name": "python",
   "nbconvert_exporter": "python",
   "pygments_lexer": "ipython3",
   "version": "3.11.7"
  }
 },
 "nbformat": 4,
 "nbformat_minor": 5
}
